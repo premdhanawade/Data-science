{
 "cells": [
  {
   "cell_type": "markdown",
   "metadata": {},
   "source": [
    "# Salary Prediction"
   ]
  },
  {
   "cell_type": "code",
   "execution_count": 1,
   "metadata": {},
   "outputs": [],
   "source": [
    "#import warnings\n",
    "import warnings\n",
    "warnings.filterwarnings('ignore')"
   ]
  },
  {
   "cell_type": "code",
   "execution_count": 2,
   "metadata": {},
   "outputs": [],
   "source": [
    "#import libraries\n",
    "\n",
    "import numpy as np\n",
    "import pandas as pd\n",
    "import matplotlib.pyplot as plt\n",
    "import seaborn as sns\n",
    "from sklearn.model_selection import train_test_split\n",
    "import statsmodels.api as sm\n",
    "from sklearn.metrics import mean_squared_error\n",
    "from sklearn.metrics import r2_score\n",
    "from statsmodels.graphics.regressionplots import influence_plot\n",
    "import statsmodels.formula.api as smf\n"
   ]
  },
  {
   "cell_type": "code",
   "execution_count": 3,
   "metadata": {},
   "outputs": [],
   "source": [
    "dtime = pd.read_csv(\"D:/Data Science/Assignments/4 Simple Linear Regression/delivery_time.csv\")"
   ]
  },
  {
   "cell_type": "code",
   "execution_count": 4,
   "metadata": {},
   "outputs": [
    {
     "data": {
      "text/html": [
       "<div>\n",
       "<style scoped>\n",
       "    .dataframe tbody tr th:only-of-type {\n",
       "        vertical-align: middle;\n",
       "    }\n",
       "\n",
       "    .dataframe tbody tr th {\n",
       "        vertical-align: top;\n",
       "    }\n",
       "\n",
       "    .dataframe thead th {\n",
       "        text-align: right;\n",
       "    }\n",
       "</style>\n",
       "<table border=\"1\" class=\"dataframe\">\n",
       "  <thead>\n",
       "    <tr style=\"text-align: right;\">\n",
       "      <th></th>\n",
       "      <th>Delivery Time</th>\n",
       "      <th>Sorting Time</th>\n",
       "    </tr>\n",
       "  </thead>\n",
       "  <tbody>\n",
       "    <tr>\n",
       "      <th>0</th>\n",
       "      <td>21.00</td>\n",
       "      <td>10</td>\n",
       "    </tr>\n",
       "    <tr>\n",
       "      <th>1</th>\n",
       "      <td>13.50</td>\n",
       "      <td>4</td>\n",
       "    </tr>\n",
       "    <tr>\n",
       "      <th>2</th>\n",
       "      <td>19.75</td>\n",
       "      <td>6</td>\n",
       "    </tr>\n",
       "    <tr>\n",
       "      <th>3</th>\n",
       "      <td>24.00</td>\n",
       "      <td>9</td>\n",
       "    </tr>\n",
       "    <tr>\n",
       "      <th>4</th>\n",
       "      <td>29.00</td>\n",
       "      <td>10</td>\n",
       "    </tr>\n",
       "    <tr>\n",
       "      <th>5</th>\n",
       "      <td>15.35</td>\n",
       "      <td>6</td>\n",
       "    </tr>\n",
       "    <tr>\n",
       "      <th>6</th>\n",
       "      <td>19.00</td>\n",
       "      <td>7</td>\n",
       "    </tr>\n",
       "    <tr>\n",
       "      <th>7</th>\n",
       "      <td>9.50</td>\n",
       "      <td>3</td>\n",
       "    </tr>\n",
       "    <tr>\n",
       "      <th>8</th>\n",
       "      <td>17.90</td>\n",
       "      <td>10</td>\n",
       "    </tr>\n",
       "    <tr>\n",
       "      <th>9</th>\n",
       "      <td>18.75</td>\n",
       "      <td>9</td>\n",
       "    </tr>\n",
       "    <tr>\n",
       "      <th>10</th>\n",
       "      <td>19.83</td>\n",
       "      <td>8</td>\n",
       "    </tr>\n",
       "    <tr>\n",
       "      <th>11</th>\n",
       "      <td>10.75</td>\n",
       "      <td>4</td>\n",
       "    </tr>\n",
       "    <tr>\n",
       "      <th>12</th>\n",
       "      <td>16.68</td>\n",
       "      <td>7</td>\n",
       "    </tr>\n",
       "    <tr>\n",
       "      <th>13</th>\n",
       "      <td>11.50</td>\n",
       "      <td>3</td>\n",
       "    </tr>\n",
       "    <tr>\n",
       "      <th>14</th>\n",
       "      <td>12.03</td>\n",
       "      <td>3</td>\n",
       "    </tr>\n",
       "    <tr>\n",
       "      <th>15</th>\n",
       "      <td>14.88</td>\n",
       "      <td>4</td>\n",
       "    </tr>\n",
       "    <tr>\n",
       "      <th>16</th>\n",
       "      <td>13.75</td>\n",
       "      <td>6</td>\n",
       "    </tr>\n",
       "    <tr>\n",
       "      <th>17</th>\n",
       "      <td>18.11</td>\n",
       "      <td>7</td>\n",
       "    </tr>\n",
       "    <tr>\n",
       "      <th>18</th>\n",
       "      <td>8.00</td>\n",
       "      <td>2</td>\n",
       "    </tr>\n",
       "    <tr>\n",
       "      <th>19</th>\n",
       "      <td>17.83</td>\n",
       "      <td>7</td>\n",
       "    </tr>\n",
       "    <tr>\n",
       "      <th>20</th>\n",
       "      <td>21.50</td>\n",
       "      <td>5</td>\n",
       "    </tr>\n",
       "  </tbody>\n",
       "</table>\n",
       "</div>"
      ],
      "text/plain": [
       "    Delivery Time  Sorting Time\n",
       "0           21.00            10\n",
       "1           13.50             4\n",
       "2           19.75             6\n",
       "3           24.00             9\n",
       "4           29.00            10\n",
       "5           15.35             6\n",
       "6           19.00             7\n",
       "7            9.50             3\n",
       "8           17.90            10\n",
       "9           18.75             9\n",
       "10          19.83             8\n",
       "11          10.75             4\n",
       "12          16.68             7\n",
       "13          11.50             3\n",
       "14          12.03             3\n",
       "15          14.88             4\n",
       "16          13.75             6\n",
       "17          18.11             7\n",
       "18           8.00             2\n",
       "19          17.83             7\n",
       "20          21.50             5"
      ]
     },
     "execution_count": 4,
     "metadata": {},
     "output_type": "execute_result"
    }
   ],
   "source": [
    "dtime"
   ]
  },
  {
   "cell_type": "code",
   "execution_count": 5,
   "metadata": {},
   "outputs": [
    {
     "name": "stdout",
     "output_type": "stream",
     "text": [
      "<class 'pandas.core.frame.DataFrame'>\n",
      "RangeIndex: 21 entries, 0 to 20\n",
      "Data columns (total 2 columns):\n",
      " #   Column         Non-Null Count  Dtype  \n",
      "---  ------         --------------  -----  \n",
      " 0   Delivery Time  21 non-null     float64\n",
      " 1   Sorting Time   21 non-null     int64  \n",
      "dtypes: float64(1), int64(1)\n",
      "memory usage: 400.0 bytes\n"
     ]
    }
   ],
   "source": [
    "dtime.info()"
   ]
  },
  {
   "cell_type": "code",
   "execution_count": 6,
   "metadata": {},
   "outputs": [],
   "source": [
    "dtime= dtime.rename({'Delivery Time':'DT','Sorting Time':'ST'}, axis=1)"
   ]
  },
  {
   "cell_type": "code",
   "execution_count": 7,
   "metadata": {},
   "outputs": [
    {
     "data": {
      "text/html": [
       "<div>\n",
       "<style scoped>\n",
       "    .dataframe tbody tr th:only-of-type {\n",
       "        vertical-align: middle;\n",
       "    }\n",
       "\n",
       "    .dataframe tbody tr th {\n",
       "        vertical-align: top;\n",
       "    }\n",
       "\n",
       "    .dataframe thead th {\n",
       "        text-align: right;\n",
       "    }\n",
       "</style>\n",
       "<table border=\"1\" class=\"dataframe\">\n",
       "  <thead>\n",
       "    <tr style=\"text-align: right;\">\n",
       "      <th></th>\n",
       "      <th>DT</th>\n",
       "      <th>ST</th>\n",
       "    </tr>\n",
       "  </thead>\n",
       "  <tbody>\n",
       "    <tr>\n",
       "      <th>DT</th>\n",
       "      <td>1.000000</td>\n",
       "      <td>0.825997</td>\n",
       "    </tr>\n",
       "    <tr>\n",
       "      <th>ST</th>\n",
       "      <td>0.825997</td>\n",
       "      <td>1.000000</td>\n",
       "    </tr>\n",
       "  </tbody>\n",
       "</table>\n",
       "</div>"
      ],
      "text/plain": [
       "          DT        ST\n",
       "DT  1.000000  0.825997\n",
       "ST  0.825997  1.000000"
      ]
     },
     "execution_count": 7,
     "metadata": {},
     "output_type": "execute_result"
    }
   ],
   "source": [
    "dtime.corr()"
   ]
  },
  {
   "cell_type": "markdown",
   "metadata": {},
   "source": [
    "# Plotting the data to check for outliers"
   ]
  },
  {
   "cell_type": "code",
   "execution_count": 8,
   "metadata": {},
   "outputs": [
    {
     "data": {
      "text/plain": [
       "array([[<AxesSubplot:title={'center':'DT'}>,\n",
       "        <AxesSubplot:title={'center':'ST'}>]], dtype=object)"
      ]
     },
     "execution_count": 8,
     "metadata": {},
     "output_type": "execute_result"
    },
    {
     "data": {
      "image/png": "[encoded data removed]",
      "text/plain": [
       "<Figure size 432x288 with 2 Axes>"
      ]
     },
     "metadata": {
      "needs_background": "light"
     },
     "output_type": "display_data"
    }
   ],
   "source": [
    "dtime.hist()"
   ]
  },
  {
   "cell_type": "code",
   "execution_count": 9,
   "metadata": {},
   "outputs": [
    {
     "data": {
      "text/plain": [
       "<AxesSubplot:>"
      ]
     },
     "execution_count": 9,
     "metadata": {},
     "output_type": "execute_result"
    },
    {
     "data": {
      "image/png": "[encoded data removed]",
      "text/plain": [
       "<Figure size 432x288 with 1 Axes>"
      ]
     },
     "metadata": {
      "needs_background": "light"
     },
     "output_type": "display_data"
    }
   ],
   "source": [
    "dtime.boxplot('DT')"
   ]
  },
  {
   "cell_type": "code",
   "execution_count": 10,
   "metadata": {},
   "outputs": [
    {
     "data": {
      "text/plain": [
       "<AxesSubplot:>"
      ]
     },
     "execution_count": 10,
     "metadata": {},
     "output_type": "execute_result"
    },
    {
     "data": {
      "image/png": "[encoded data removed]",
      "text/plain": [
       "<Figure size 432x288 with 1 Axes>"
      ]
     },
     "metadata": {
      "needs_background": "light"
     },
     "output_type": "display_data"
    }
   ],
   "source": [
    "dtime.boxplot('ST')"
   ]
  },
  {
   "cell_type": "markdown",
   "metadata": {},
   "source": [
    "# Building a regression model"
   ]
  },
  {
   "cell_type": "code",
   "execution_count": 11,
   "metadata": {},
   "outputs": [],
   "source": [
    "model = smf.ols(\"DT~ST\",data = dtime).fit()"
   ]
  },
  {
   "cell_type": "code",
   "execution_count": 12,
   "metadata": {},
   "outputs": [
    {
     "data": {
      "text/plain": [
       "<AxesSubplot:xlabel='ST', ylabel='DT'>"
      ]
     },
     "execution_count": 12,
     "metadata": {},
     "output_type": "execute_result"
    },
    {
     "data": {
      "image/png": "[encoded data removed]",
      "text/plain": [
       "<Figure size 432x288 with 1 Axes>"
      ]
     },
     "metadata": {
      "needs_background": "light"
     },
     "output_type": "display_data"
    }
   ],
   "source": [
    "sns.regplot(x='ST', y='DT', data=dtime)"
   ]
  },
  {
   "cell_type": "code",
   "execution_count": 13,
   "metadata": {},
   "outputs": [
    {
     "name": "stdout",
     "output_type": "stream",
     "text": [
      "Intercept    3.823349\n",
      "ST           6.387447\n",
      "dtype: float64 \n",
      " Intercept    0.001147\n",
      "ST           0.000004\n",
      "dtype: float64\n"
     ]
    }
   ],
   "source": [
    "print(model.tvalues, '\\n', model.pvalues)"
   ]
  },
  {
   "cell_type": "code",
   "execution_count": 14,
   "metadata": {},
   "outputs": [
    {
     "data": {
      "text/plain": [
       "(0.6822714748417231, 0.6655489208860244)"
      ]
     },
     "execution_count": 14,
     "metadata": {},
     "output_type": "execute_result"
    }
   ],
   "source": [
    "(model.rsquared,model.rsquared_adj)"
   ]
  },
  {
   "cell_type": "markdown",
   "metadata": {},
   "source": [
    "# Since R value is not good, we will try to further improve the model by removing outliers using cook's distance technique"
   ]
  },
  {
   "cell_type": "code",
   "execution_count": 15,
   "metadata": {},
   "outputs": [],
   "source": [
    "model_influence = model.get_influence()\n",
    "(c, _) = model_influence.cooks_distance"
   ]
  },
  {
   "cell_type": "code",
   "execution_count": 16,
   "metadata": {},
   "outputs": [
    {
     "data": {
      "image/png": "[encoded data removed]",
      "text/plain": [
       "<Figure size 1440x504 with 1 Axes>"
      ]
     },
     "metadata": {
      "needs_background": "light"
     },
     "output_type": "display_data"
    }
   ],
   "source": [
    "#Plot the influencers values using stem plot\n",
    "fig = plt.subplots(figsize=(20, 7))\n",
    "plt.stem(np.arange(len(dtime)), np.round(c, 3))\n",
    "plt.xlabel('Row index')\n",
    "plt.ylabel('Cooks Distance')\n",
    "plt.show()"
   ]
  },
  {
   "cell_type": "code",
   "execution_count": 17,
   "metadata": {},
   "outputs": [
    {
     "data": {
      "text/plain": [
       "(4, 0.46205304126503155)"
      ]
     },
     "execution_count": 17,
     "metadata": {},
     "output_type": "execute_result"
    }
   ],
   "source": [
    "(np.argmax(c),np.max(c))"
   ]
  },
  {
   "cell_type": "code",
   "execution_count": 18,
   "metadata": {},
   "outputs": [],
   "source": [
    "dtime1= dtime.drop([4],axis=0)"
   ]
  },
  {
   "cell_type": "code",
   "execution_count": 19,
   "metadata": {},
   "outputs": [],
   "source": [
    "dtime2 = dtime1.reset_index()"
   ]
  },
  {
   "cell_type": "code",
   "execution_count": 20,
   "metadata": {},
   "outputs": [],
   "source": [
    "dtime3=dtime2.drop(['index'],axis=1)"
   ]
  },
  {
   "cell_type": "code",
   "execution_count": 21,
   "metadata": {},
   "outputs": [],
   "source": [
    "model1 = smf.ols('DT~ST', data=dtime3).fit()"
   ]
  },
  {
   "cell_type": "code",
   "execution_count": 22,
   "metadata": {},
   "outputs": [
    {
     "name": "stdout",
     "output_type": "stream",
     "text": [
      "Intercept    4.788039\n",
      "ST           5.913837\n",
      "dtype: float64 \n",
      " Intercept    0.000147\n",
      "ST           0.000013\n",
      "dtype: float64\n"
     ]
    }
   ],
   "source": [
    "print(model1.tvalues, '\\n', model1.pvalues)"
   ]
  },
  {
   "cell_type": "code",
   "execution_count": 23,
   "metadata": {},
   "outputs": [
    {
     "data": {
      "text/plain": [
       "(0.660207261776224, 0.6413298874304587)"
      ]
     },
     "execution_count": 23,
     "metadata": {},
     "output_type": "execute_result"
    }
   ],
   "source": [
    "(model1.rsquared,model1.rsquared_adj)"
   ]
  },
  {
   "cell_type": "markdown",
   "metadata": {},
   "source": [
    "# Still R value is not good, we will go through cook's distance technique for identifying outliers again"
   ]
  },
  {
   "cell_type": "code",
   "execution_count": 24,
   "metadata": {},
   "outputs": [],
   "source": [
    "model_influence = model1.get_influence()\n",
    "(c1, _) = model_influence.cooks_distance"
   ]
  },
  {
   "cell_type": "code",
   "execution_count": 26,
   "metadata": {},
   "outputs": [
    {
     "data": {
      "image/png": "[encoded data removed]",
      "text/plain": [
       "<Figure size 1440x504 with 1 Axes>"
      ]
     },
     "metadata": {
      "needs_background": "light"
     },
     "output_type": "display_data"
    }
   ],
   "source": [
    "fig = plt.subplots(figsize=(20, 7))\n",
    "plt.stem(np.arange(len(dtime3)), np.round(c1, 3))\n",
    "plt.xlabel('Row index')\n",
    "plt.ylabel('Cooks Distance')\n",
    "plt.show()"
   ]
  },
  {
   "cell_type": "code",
   "execution_count": 27,
   "metadata": {},
   "outputs": [
    {
     "data": {
      "text/plain": [
       "(7, 0.35089748038778834)"
      ]
     },
     "execution_count": 27,
     "metadata": {},
     "output_type": "execute_result"
    }
   ],
   "source": [
    "(np.argmax(c1),np.max(c1))"
   ]
  },
  {
   "cell_type": "code",
   "execution_count": 28,
   "metadata": {},
   "outputs": [],
   "source": [
    "dtime4= dtime3.drop([7],axis=0)"
   ]
  },
  {
   "cell_type": "code",
   "execution_count": 29,
   "metadata": {},
   "outputs": [],
   "source": [
    "dtime5 = dtime4.reset_index()"
   ]
  },
  {
   "cell_type": "code",
   "execution_count": 30,
   "metadata": {},
   "outputs": [],
   "source": [
    "dtime6=dtime5.drop(['index'],axis=1)"
   ]
  },
  {
   "cell_type": "code",
   "execution_count": 31,
   "metadata": {},
   "outputs": [],
   "source": [
    "model2 = smf.ols('DT~ST', data=dtime6).fit()"
   ]
  },
  {
   "cell_type": "code",
   "execution_count": 32,
   "metadata": {},
   "outputs": [
    {
     "name": "stdout",
     "output_type": "stream",
     "text": [
      "Intercept    4.366444\n",
      "ST           6.515847\n",
      "dtype: float64 \n",
      " Intercept    0.000420\n",
      "ST           0.000005\n",
      "dtype: float64\n"
     ]
    }
   ],
   "source": [
    "print(model2.tvalues, '\\n', model2.pvalues)"
   ]
  },
  {
   "cell_type": "code",
   "execution_count": 33,
   "metadata": {},
   "outputs": [
    {
     "data": {
      "text/plain": [
       "(0.7140755547043909, 0.6972564696870021)"
      ]
     },
     "execution_count": 33,
     "metadata": {},
     "output_type": "execute_result"
    }
   ],
   "source": [
    "(model2.rsquared,model2.rsquared_adj)"
   ]
  },
  {
   "cell_type": "markdown",
   "metadata": {},
   "source": [
    "# R vlaue has improved a bit, we will still continue with the same process till we stop seeing the progress"
   ]
  },
  {
   "cell_type": "code",
   "execution_count": 34,
   "metadata": {},
   "outputs": [],
   "source": [
    "model_influence = model2.get_influence()\n",
    "(c2, _) = model_influence.cooks_distance"
   ]
  },
  {
   "cell_type": "code",
   "execution_count": 35,
   "metadata": {},
   "outputs": [
    {
     "data": {
      "image/png": "[encoded data removed]",
      "text/plain": [
       "<Figure size 1440x504 with 1 Axes>"
      ]
     },
     "metadata": {
      "needs_background": "light"
     },
     "output_type": "display_data"
    }
   ],
   "source": [
    "fig = plt.subplots(figsize=(20, 7))\n",
    "plt.stem(np.arange(len(dtime6)), np.round(c2, 3))\n",
    "plt.xlabel('Row index')\n",
    "plt.ylabel('Cooks Distance')\n",
    "plt.show()"
   ]
  },
  {
   "cell_type": "code",
   "execution_count": 36,
   "metadata": {},
   "outputs": [
    {
     "data": {
      "text/plain": [
       "(18, 0.24932621731860263)"
      ]
     },
     "execution_count": 36,
     "metadata": {},
     "output_type": "execute_result"
    }
   ],
   "source": [
    "(np.argmax(c2),np.max(c2))"
   ]
  },
  {
   "cell_type": "code",
   "execution_count": 37,
   "metadata": {},
   "outputs": [],
   "source": [
    "dtime7= dtime6.drop([18],axis=0)"
   ]
  },
  {
   "cell_type": "code",
   "execution_count": 38,
   "metadata": {},
   "outputs": [],
   "source": [
    "dtime8 = dtime7.reset_index()"
   ]
  },
  {
   "cell_type": "code",
   "execution_count": 39,
   "metadata": {},
   "outputs": [],
   "source": [
    "dtime9=dtime8.drop(['index'],axis=1)"
   ]
  },
  {
   "cell_type": "code",
   "execution_count": 40,
   "metadata": {},
   "outputs": [],
   "source": [
    "model3 = smf.ols('DT~ST', data=dtime9).fit()"
   ]
  },
  {
   "cell_type": "code",
   "execution_count": 41,
   "metadata": {},
   "outputs": [
    {
     "name": "stdout",
     "output_type": "stream",
     "text": [
      "Intercept    5.126385\n",
      "ST           8.941043\n",
      "dtype: float64 \n",
      " Intercept    1.015144e-04\n",
      "ST           1.273152e-07\n",
      "dtype: float64\n"
     ]
    }
   ],
   "source": [
    "print(model3.tvalues, '\\n', model3.pvalues)"
   ]
  },
  {
   "cell_type": "code",
   "execution_count": 42,
   "metadata": {},
   "outputs": [
    {
     "data": {
      "text/plain": [
       "(0.8332330202945817, 0.822810084062993)"
      ]
     },
     "execution_count": 42,
     "metadata": {},
     "output_type": "execute_result"
    }
   ],
   "source": [
    "(model3.rsquared,model3.rsquared_adj)"
   ]
  },
  {
   "cell_type": "code",
   "execution_count": 43,
   "metadata": {},
   "outputs": [],
   "source": [
    "# Since 0.833 is good value for R, we can either stop here or continue with the same process\n",
    "# As data set contains only 17 observations, its not advisable to remove more data points\n",
    "# We can still go through the same proess once againto see if it have any mojor effect on R value"
   ]
  },
  {
   "cell_type": "code",
   "execution_count": 44,
   "metadata": {},
   "outputs": [],
   "source": [
    "model_influence = model3.get_influence()\n",
    "(c3, _) = model_influence.cooks_distance"
   ]
  },
  {
   "cell_type": "code",
   "execution_count": 45,
   "metadata": {},
   "outputs": [
    {
     "data": {
      "image/png": "[encoded data removed]",
      "text/plain": [
       "<Figure size 1440x504 with 1 Axes>"
      ]
     },
     "metadata": {
      "needs_background": "light"
     },
     "output_type": "display_data"
    }
   ],
   "source": [
    "fig = plt.subplots(figsize=(20, 7))\n",
    "plt.stem(np.arange(len(dtime9)), np.round(c3, 3))\n",
    "plt.xlabel('Row index')\n",
    "plt.ylabel('Cooks Distance')\n",
    "plt.show()"
   ]
  },
  {
   "cell_type": "code",
   "execution_count": 46,
   "metadata": {},
   "outputs": [
    {
     "data": {
      "text/plain": [
       "(3, 0.2823735976855821)"
      ]
     },
     "execution_count": 46,
     "metadata": {},
     "output_type": "execute_result"
    }
   ],
   "source": [
    "(np.argmax(c3),np.max(c3))"
   ]
  },
  {
   "cell_type": "code",
   "execution_count": 47,
   "metadata": {},
   "outputs": [],
   "source": [
    "dtime10= dtime9.drop([3],axis=0)"
   ]
  },
  {
   "cell_type": "code",
   "execution_count": 48,
   "metadata": {},
   "outputs": [],
   "source": [
    "dtime11 = dtime10.reset_index()"
   ]
  },
  {
   "cell_type": "code",
   "execution_count": 49,
   "metadata": {},
   "outputs": [],
   "source": [
    "dtime12=dtime11.drop(['index'],axis=1)"
   ]
  },
  {
   "cell_type": "code",
   "execution_count": 50,
   "metadata": {},
   "outputs": [],
   "source": [
    "model4 = smf.ols('DT~ST', data=dtime12).fit()"
   ]
  },
  {
   "cell_type": "code",
   "execution_count": 51,
   "metadata": {},
   "outputs": [
    {
     "name": "stdout",
     "output_type": "stream",
     "text": [
      "Intercept    5.777777\n",
      "ST           8.438153\n",
      "dtype: float64 \n",
      " Intercept    3.646510e-05\n",
      "ST           4.438326e-07\n",
      "dtype: float64\n"
     ]
    }
   ],
   "source": [
    "print(model4.tvalues, '\\n', model4.pvalues)"
   ]
  },
  {
   "cell_type": "code",
   "execution_count": 52,
   "metadata": {},
   "outputs": [
    {
     "data": {
      "text/plain": [
       "(0.8259909851443229, 0.8143903841539444)"
      ]
     },
     "execution_count": 52,
     "metadata": {},
     "output_type": "execute_result"
    }
   ],
   "source": [
    "(model4.rsquared,model4.rsquared_adj)"
   ]
  },
  {
   "cell_type": "code",
   "execution_count": 53,
   "metadata": {},
   "outputs": [],
   "source": [
    "# with this data point removal, R value has reduced so will condier the last R value (model3) as final vlaue."
   ]
  },
  {
   "cell_type": "code",
   "execution_count": 54,
   "metadata": {},
   "outputs": [
    {
     "data": {
      "text/plain": [
       "(0.8332330202945817, 0.822810084062993)"
      ]
     },
     "execution_count": 54,
     "metadata": {},
     "output_type": "execute_result"
    }
   ],
   "source": [
    "(model3.rsquared,model3.rsquared_adj)"
   ]
  },
  {
   "cell_type": "markdown",
   "metadata": {},
   "source": [
    "# Checking the model by predicting the delivery time of the same data set and comparing it with actual values"
   ]
  },
  {
   "cell_type": "code",
   "execution_count": 55,
   "metadata": {},
   "outputs": [],
   "source": [
    "pred_DT = pd.DataFrame (model3.predict(dtime12), columns=['Predict_DT'])"
   ]
  },
  {
   "cell_type": "code",
   "execution_count": 56,
   "metadata": {},
   "outputs": [
    {
     "data": {
      "text/html": [
       "<div>\n",
       "<style scoped>\n",
       "    .dataframe tbody tr th:only-of-type {\n",
       "        vertical-align: middle;\n",
       "    }\n",
       "\n",
       "    .dataframe tbody tr th {\n",
       "        vertical-align: top;\n",
       "    }\n",
       "\n",
       "    .dataframe thead th {\n",
       "        text-align: right;\n",
       "    }\n",
       "</style>\n",
       "<table border=\"1\" class=\"dataframe\">\n",
       "  <thead>\n",
       "    <tr style=\"text-align: right;\">\n",
       "      <th></th>\n",
       "      <th>Predict_DT</th>\n",
       "    </tr>\n",
       "  </thead>\n",
       "  <tbody>\n",
       "    <tr>\n",
       "      <th>0</th>\n",
       "      <td>22.764761</td>\n",
       "    </tr>\n",
       "    <tr>\n",
       "      <th>1</th>\n",
       "      <td>12.720305</td>\n",
       "    </tr>\n",
       "    <tr>\n",
       "      <th>2</th>\n",
       "      <td>16.068457</td>\n",
       "    </tr>\n",
       "    <tr>\n",
       "      <th>3</th>\n",
       "      <td>16.068457</td>\n",
       "    </tr>\n",
       "    <tr>\n",
       "      <th>4</th>\n",
       "      <td>17.742533</td>\n",
       "    </tr>\n",
       "    <tr>\n",
       "      <th>5</th>\n",
       "      <td>11.046229</td>\n",
       "    </tr>\n",
       "    <tr>\n",
       "      <th>6</th>\n",
       "      <td>21.090685</td>\n",
       "    </tr>\n",
       "    <tr>\n",
       "      <th>7</th>\n",
       "      <td>19.416609</td>\n",
       "    </tr>\n",
       "    <tr>\n",
       "      <th>8</th>\n",
       "      <td>12.720305</td>\n",
       "    </tr>\n",
       "    <tr>\n",
       "      <th>9</th>\n",
       "      <td>17.742533</td>\n",
       "    </tr>\n",
       "    <tr>\n",
       "      <th>10</th>\n",
       "      <td>11.046229</td>\n",
       "    </tr>\n",
       "    <tr>\n",
       "      <th>11</th>\n",
       "      <td>11.046229</td>\n",
       "    </tr>\n",
       "    <tr>\n",
       "      <th>12</th>\n",
       "      <td>12.720305</td>\n",
       "    </tr>\n",
       "    <tr>\n",
       "      <th>13</th>\n",
       "      <td>16.068457</td>\n",
       "    </tr>\n",
       "    <tr>\n",
       "      <th>14</th>\n",
       "      <td>17.742533</td>\n",
       "    </tr>\n",
       "    <tr>\n",
       "      <th>15</th>\n",
       "      <td>9.372153</td>\n",
       "    </tr>\n",
       "    <tr>\n",
       "      <th>16</th>\n",
       "      <td>17.742533</td>\n",
       "    </tr>\n",
       "  </tbody>\n",
       "</table>\n",
       "</div>"
      ],
      "text/plain": [
       "    Predict_DT\n",
       "0    22.764761\n",
       "1    12.720305\n",
       "2    16.068457\n",
       "3    16.068457\n",
       "4    17.742533\n",
       "5    11.046229\n",
       "6    21.090685\n",
       "7    19.416609\n",
       "8    12.720305\n",
       "9    17.742533\n",
       "10   11.046229\n",
       "11   11.046229\n",
       "12   12.720305\n",
       "13   16.068457\n",
       "14   17.742533\n",
       "15    9.372153\n",
       "16   17.742533"
      ]
     },
     "execution_count": 56,
     "metadata": {},
     "output_type": "execute_result"
    }
   ],
   "source": [
    "pred_DT"
   ]
  },
  {
   "cell_type": "code",
   "execution_count": 57,
   "metadata": {},
   "outputs": [],
   "source": [
    "pred_DT1 = pd.concat([dtime12, pred_DT], axis=1)"
   ]
  },
  {
   "cell_type": "code",
   "execution_count": 58,
   "metadata": {},
   "outputs": [
    {
     "data": {
      "text/html": [
       "<div>\n",
       "<style scoped>\n",
       "    .dataframe tbody tr th:only-of-type {\n",
       "        vertical-align: middle;\n",
       "    }\n",
       "\n",
       "    .dataframe tbody tr th {\n",
       "        vertical-align: top;\n",
       "    }\n",
       "\n",
       "    .dataframe thead th {\n",
       "        text-align: right;\n",
       "    }\n",
       "</style>\n",
       "<table border=\"1\" class=\"dataframe\">\n",
       "  <thead>\n",
       "    <tr style=\"text-align: right;\">\n",
       "      <th></th>\n",
       "      <th>DT</th>\n",
       "      <th>ST</th>\n",
       "      <th>Predict_DT</th>\n",
       "    </tr>\n",
       "  </thead>\n",
       "  <tbody>\n",
       "    <tr>\n",
       "      <th>0</th>\n",
       "      <td>21.00</td>\n",
       "      <td>10</td>\n",
       "      <td>22.764761</td>\n",
       "    </tr>\n",
       "    <tr>\n",
       "      <th>1</th>\n",
       "      <td>13.50</td>\n",
       "      <td>4</td>\n",
       "      <td>12.720305</td>\n",
       "    </tr>\n",
       "    <tr>\n",
       "      <th>2</th>\n",
       "      <td>19.75</td>\n",
       "      <td>6</td>\n",
       "      <td>16.068457</td>\n",
       "    </tr>\n",
       "    <tr>\n",
       "      <th>3</th>\n",
       "      <td>15.35</td>\n",
       "      <td>6</td>\n",
       "      <td>16.068457</td>\n",
       "    </tr>\n",
       "    <tr>\n",
       "      <th>4</th>\n",
       "      <td>19.00</td>\n",
       "      <td>7</td>\n",
       "      <td>17.742533</td>\n",
       "    </tr>\n",
       "    <tr>\n",
       "      <th>5</th>\n",
       "      <td>9.50</td>\n",
       "      <td>3</td>\n",
       "      <td>11.046229</td>\n",
       "    </tr>\n",
       "    <tr>\n",
       "      <th>6</th>\n",
       "      <td>18.75</td>\n",
       "      <td>9</td>\n",
       "      <td>21.090685</td>\n",
       "    </tr>\n",
       "    <tr>\n",
       "      <th>7</th>\n",
       "      <td>19.83</td>\n",
       "      <td>8</td>\n",
       "      <td>19.416609</td>\n",
       "    </tr>\n",
       "    <tr>\n",
       "      <th>8</th>\n",
       "      <td>10.75</td>\n",
       "      <td>4</td>\n",
       "      <td>12.720305</td>\n",
       "    </tr>\n",
       "    <tr>\n",
       "      <th>9</th>\n",
       "      <td>16.68</td>\n",
       "      <td>7</td>\n",
       "      <td>17.742533</td>\n",
       "    </tr>\n",
       "    <tr>\n",
       "      <th>10</th>\n",
       "      <td>11.50</td>\n",
       "      <td>3</td>\n",
       "      <td>11.046229</td>\n",
       "    </tr>\n",
       "    <tr>\n",
       "      <th>11</th>\n",
       "      <td>12.03</td>\n",
       "      <td>3</td>\n",
       "      <td>11.046229</td>\n",
       "    </tr>\n",
       "    <tr>\n",
       "      <th>12</th>\n",
       "      <td>14.88</td>\n",
       "      <td>4</td>\n",
       "      <td>12.720305</td>\n",
       "    </tr>\n",
       "    <tr>\n",
       "      <th>13</th>\n",
       "      <td>13.75</td>\n",
       "      <td>6</td>\n",
       "      <td>16.068457</td>\n",
       "    </tr>\n",
       "    <tr>\n",
       "      <th>14</th>\n",
       "      <td>18.11</td>\n",
       "      <td>7</td>\n",
       "      <td>17.742533</td>\n",
       "    </tr>\n",
       "    <tr>\n",
       "      <th>15</th>\n",
       "      <td>8.00</td>\n",
       "      <td>2</td>\n",
       "      <td>9.372153</td>\n",
       "    </tr>\n",
       "    <tr>\n",
       "      <th>16</th>\n",
       "      <td>17.83</td>\n",
       "      <td>7</td>\n",
       "      <td>17.742533</td>\n",
       "    </tr>\n",
       "  </tbody>\n",
       "</table>\n",
       "</div>"
      ],
      "text/plain": [
       "       DT  ST  Predict_DT\n",
       "0   21.00  10   22.764761\n",
       "1   13.50   4   12.720305\n",
       "2   19.75   6   16.068457\n",
       "3   15.35   6   16.068457\n",
       "4   19.00   7   17.742533\n",
       "5    9.50   3   11.046229\n",
       "6   18.75   9   21.090685\n",
       "7   19.83   8   19.416609\n",
       "8   10.75   4   12.720305\n",
       "9   16.68   7   17.742533\n",
       "10  11.50   3   11.046229\n",
       "11  12.03   3   11.046229\n",
       "12  14.88   4   12.720305\n",
       "13  13.75   6   16.068457\n",
       "14  18.11   7   17.742533\n",
       "15   8.00   2    9.372153\n",
       "16  17.83   7   17.742533"
      ]
     },
     "execution_count": 58,
     "metadata": {},
     "output_type": "execute_result"
    }
   ],
   "source": [
    "pred_DT1"
   ]
  },
  {
   "cell_type": "code",
   "execution_count": 59,
   "metadata": {},
   "outputs": [],
   "source": [
    "Error = pd.DataFrame (((pred_DT1['Predict_DT']- pred_DT1['DT'])/pred_DT1['DT']), columns=['Error'])"
   ]
  },
  {
   "cell_type": "code",
   "execution_count": 60,
   "metadata": {},
   "outputs": [],
   "source": [
    "result = pd.concat ([pred_DT1, Error], axis=1)"
   ]
  },
  {
   "cell_type": "code",
   "execution_count": 61,
   "metadata": {},
   "outputs": [
    {
     "data": {
      "text/html": [
       "<div>\n",
       "<style scoped>\n",
       "    .dataframe tbody tr th:only-of-type {\n",
       "        vertical-align: middle;\n",
       "    }\n",
       "\n",
       "    .dataframe tbody tr th {\n",
       "        vertical-align: top;\n",
       "    }\n",
       "\n",
       "    .dataframe thead th {\n",
       "        text-align: right;\n",
       "    }\n",
       "</style>\n",
       "<table border=\"1\" class=\"dataframe\">\n",
       "  <thead>\n",
       "    <tr style=\"text-align: right;\">\n",
       "      <th></th>\n",
       "      <th>DT</th>\n",
       "      <th>ST</th>\n",
       "      <th>Predict_DT</th>\n",
       "      <th>Error</th>\n",
       "    </tr>\n",
       "  </thead>\n",
       "  <tbody>\n",
       "    <tr>\n",
       "      <th>0</th>\n",
       "      <td>21.00</td>\n",
       "      <td>10</td>\n",
       "      <td>22.764761</td>\n",
       "      <td>0.084036</td>\n",
       "    </tr>\n",
       "    <tr>\n",
       "      <th>1</th>\n",
       "      <td>13.50</td>\n",
       "      <td>4</td>\n",
       "      <td>12.720305</td>\n",
       "      <td>-0.057755</td>\n",
       "    </tr>\n",
       "    <tr>\n",
       "      <th>2</th>\n",
       "      <td>19.75</td>\n",
       "      <td>6</td>\n",
       "      <td>16.068457</td>\n",
       "      <td>-0.186407</td>\n",
       "    </tr>\n",
       "    <tr>\n",
       "      <th>3</th>\n",
       "      <td>15.35</td>\n",
       "      <td>6</td>\n",
       "      <td>16.068457</td>\n",
       "      <td>0.046805</td>\n",
       "    </tr>\n",
       "    <tr>\n",
       "      <th>4</th>\n",
       "      <td>19.00</td>\n",
       "      <td>7</td>\n",
       "      <td>17.742533</td>\n",
       "      <td>-0.066182</td>\n",
       "    </tr>\n",
       "    <tr>\n",
       "      <th>5</th>\n",
       "      <td>9.50</td>\n",
       "      <td>3</td>\n",
       "      <td>11.046229</td>\n",
       "      <td>0.162761</td>\n",
       "    </tr>\n",
       "    <tr>\n",
       "      <th>6</th>\n",
       "      <td>18.75</td>\n",
       "      <td>9</td>\n",
       "      <td>21.090685</td>\n",
       "      <td>0.124837</td>\n",
       "    </tr>\n",
       "    <tr>\n",
       "      <th>7</th>\n",
       "      <td>19.83</td>\n",
       "      <td>8</td>\n",
       "      <td>19.416609</td>\n",
       "      <td>-0.020847</td>\n",
       "    </tr>\n",
       "    <tr>\n",
       "      <th>8</th>\n",
       "      <td>10.75</td>\n",
       "      <td>4</td>\n",
       "      <td>12.720305</td>\n",
       "      <td>0.183284</td>\n",
       "    </tr>\n",
       "    <tr>\n",
       "      <th>9</th>\n",
       "      <td>16.68</td>\n",
       "      <td>7</td>\n",
       "      <td>17.742533</td>\n",
       "      <td>0.063701</td>\n",
       "    </tr>\n",
       "    <tr>\n",
       "      <th>10</th>\n",
       "      <td>11.50</td>\n",
       "      <td>3</td>\n",
       "      <td>11.046229</td>\n",
       "      <td>-0.039458</td>\n",
       "    </tr>\n",
       "    <tr>\n",
       "      <th>11</th>\n",
       "      <td>12.03</td>\n",
       "      <td>3</td>\n",
       "      <td>11.046229</td>\n",
       "      <td>-0.081776</td>\n",
       "    </tr>\n",
       "    <tr>\n",
       "      <th>12</th>\n",
       "      <td>14.88</td>\n",
       "      <td>4</td>\n",
       "      <td>12.720305</td>\n",
       "      <td>-0.145141</td>\n",
       "    </tr>\n",
       "    <tr>\n",
       "      <th>13</th>\n",
       "      <td>13.75</td>\n",
       "      <td>6</td>\n",
       "      <td>16.068457</td>\n",
       "      <td>0.168615</td>\n",
       "    </tr>\n",
       "    <tr>\n",
       "      <th>14</th>\n",
       "      <td>18.11</td>\n",
       "      <td>7</td>\n",
       "      <td>17.742533</td>\n",
       "      <td>-0.020291</td>\n",
       "    </tr>\n",
       "    <tr>\n",
       "      <th>15</th>\n",
       "      <td>8.00</td>\n",
       "      <td>2</td>\n",
       "      <td>9.372153</td>\n",
       "      <td>0.171519</td>\n",
       "    </tr>\n",
       "    <tr>\n",
       "      <th>16</th>\n",
       "      <td>17.83</td>\n",
       "      <td>7</td>\n",
       "      <td>17.742533</td>\n",
       "      <td>-0.004906</td>\n",
       "    </tr>\n",
       "  </tbody>\n",
       "</table>\n",
       "</div>"
      ],
      "text/plain": [
       "       DT  ST  Predict_DT     Error\n",
       "0   21.00  10   22.764761  0.084036\n",
       "1   13.50   4   12.720305 -0.057755\n",
       "2   19.75   6   16.068457 -0.186407\n",
       "3   15.35   6   16.068457  0.046805\n",
       "4   19.00   7   17.742533 -0.066182\n",
       "5    9.50   3   11.046229  0.162761\n",
       "6   18.75   9   21.090685  0.124837\n",
       "7   19.83   8   19.416609 -0.020847\n",
       "8   10.75   4   12.720305  0.183284\n",
       "9   16.68   7   17.742533  0.063701\n",
       "10  11.50   3   11.046229 -0.039458\n",
       "11  12.03   3   11.046229 -0.081776\n",
       "12  14.88   4   12.720305 -0.145141\n",
       "13  13.75   6   16.068457  0.168615\n",
       "14  18.11   7   17.742533 -0.020291\n",
       "15   8.00   2    9.372153  0.171519\n",
       "16  17.83   7   17.742533 -0.004906"
      ]
     },
     "execution_count": 61,
     "metadata": {},
     "output_type": "execute_result"
    }
   ],
   "source": [
    "result"
   ]
  },
  {
   "cell_type": "code",
   "execution_count": 62,
   "metadata": {},
   "outputs": [
    {
     "data": {
      "text/html": [
       "<style  type=\"text/css\" >\n",
       "</style><table id=\"T_2c45ac6e_8490_11eb_bcb8_446d5747e963\" ><thead>    <tr>        <th class=\"blank level0\" ></th>        <th class=\"col_heading level0 col0\" >DT</th>        <th class=\"col_heading level0 col1\" >ST</th>        <th class=\"col_heading level0 col2\" >Predict_DT</th>        <th class=\"col_heading level0 col3\" >Error</th>    </tr></thead><tbody>\n",
       "                <tr>\n",
       "                        <th id=\"T_2c45ac6e_8490_11eb_bcb8_446d5747e963level0_row0\" class=\"row_heading level0 row0\" >0</th>\n",
       "                        <td id=\"T_2c45ac6e_8490_11eb_bcb8_446d5747e963row0_col0\" class=\"data row0 col0\" >21.00</td>\n",
       "                        <td id=\"T_2c45ac6e_8490_11eb_bcb8_446d5747e963row0_col1\" class=\"data row0 col1\" >10.00</td>\n",
       "                        <td id=\"T_2c45ac6e_8490_11eb_bcb8_446d5747e963row0_col2\" class=\"data row0 col2\" >22.76</td>\n",
       "                        <td id=\"T_2c45ac6e_8490_11eb_bcb8_446d5747e963row0_col3\" class=\"data row0 col3\" >8.40%</td>\n",
       "            </tr>\n",
       "            <tr>\n",
       "                        <th id=\"T_2c45ac6e_8490_11eb_bcb8_446d5747e963level0_row1\" class=\"row_heading level0 row1\" >1</th>\n",
       "                        <td id=\"T_2c45ac6e_8490_11eb_bcb8_446d5747e963row1_col0\" class=\"data row1 col0\" >13.50</td>\n",
       "                        <td id=\"T_2c45ac6e_8490_11eb_bcb8_446d5747e963row1_col1\" class=\"data row1 col1\" >4.00</td>\n",
       "                        <td id=\"T_2c45ac6e_8490_11eb_bcb8_446d5747e963row1_col2\" class=\"data row1 col2\" >12.72</td>\n",
       "                        <td id=\"T_2c45ac6e_8490_11eb_bcb8_446d5747e963row1_col3\" class=\"data row1 col3\" >-5.78%</td>\n",
       "            </tr>\n",
       "            <tr>\n",
       "                        <th id=\"T_2c45ac6e_8490_11eb_bcb8_446d5747e963level0_row2\" class=\"row_heading level0 row2\" >2</th>\n",
       "                        <td id=\"T_2c45ac6e_8490_11eb_bcb8_446d5747e963row2_col0\" class=\"data row2 col0\" >19.75</td>\n",
       "                        <td id=\"T_2c45ac6e_8490_11eb_bcb8_446d5747e963row2_col1\" class=\"data row2 col1\" >6.00</td>\n",
       "                        <td id=\"T_2c45ac6e_8490_11eb_bcb8_446d5747e963row2_col2\" class=\"data row2 col2\" >16.07</td>\n",
       "                        <td id=\"T_2c45ac6e_8490_11eb_bcb8_446d5747e963row2_col3\" class=\"data row2 col3\" >-18.64%</td>\n",
       "            </tr>\n",
       "            <tr>\n",
       "                        <th id=\"T_2c45ac6e_8490_11eb_bcb8_446d5747e963level0_row3\" class=\"row_heading level0 row3\" >3</th>\n",
       "                        <td id=\"T_2c45ac6e_8490_11eb_bcb8_446d5747e963row3_col0\" class=\"data row3 col0\" >15.35</td>\n",
       "                        <td id=\"T_2c45ac6e_8490_11eb_bcb8_446d5747e963row3_col1\" class=\"data row3 col1\" >6.00</td>\n",
       "                        <td id=\"T_2c45ac6e_8490_11eb_bcb8_446d5747e963row3_col2\" class=\"data row3 col2\" >16.07</td>\n",
       "                        <td id=\"T_2c45ac6e_8490_11eb_bcb8_446d5747e963row3_col3\" class=\"data row3 col3\" >4.68%</td>\n",
       "            </tr>\n",
       "            <tr>\n",
       "                        <th id=\"T_2c45ac6e_8490_11eb_bcb8_446d5747e963level0_row4\" class=\"row_heading level0 row4\" >4</th>\n",
       "                        <td id=\"T_2c45ac6e_8490_11eb_bcb8_446d5747e963row4_col0\" class=\"data row4 col0\" >19.00</td>\n",
       "                        <td id=\"T_2c45ac6e_8490_11eb_bcb8_446d5747e963row4_col1\" class=\"data row4 col1\" >7.00</td>\n",
       "                        <td id=\"T_2c45ac6e_8490_11eb_bcb8_446d5747e963row4_col2\" class=\"data row4 col2\" >17.74</td>\n",
       "                        <td id=\"T_2c45ac6e_8490_11eb_bcb8_446d5747e963row4_col3\" class=\"data row4 col3\" >-6.62%</td>\n",
       "            </tr>\n",
       "            <tr>\n",
       "                        <th id=\"T_2c45ac6e_8490_11eb_bcb8_446d5747e963level0_row5\" class=\"row_heading level0 row5\" >5</th>\n",
       "                        <td id=\"T_2c45ac6e_8490_11eb_bcb8_446d5747e963row5_col0\" class=\"data row5 col0\" >9.50</td>\n",
       "                        <td id=\"T_2c45ac6e_8490_11eb_bcb8_446d5747e963row5_col1\" class=\"data row5 col1\" >3.00</td>\n",
       "                        <td id=\"T_2c45ac6e_8490_11eb_bcb8_446d5747e963row5_col2\" class=\"data row5 col2\" >11.05</td>\n",
       "                        <td id=\"T_2c45ac6e_8490_11eb_bcb8_446d5747e963row5_col3\" class=\"data row5 col3\" >16.28%</td>\n",
       "            </tr>\n",
       "            <tr>\n",
       "                        <th id=\"T_2c45ac6e_8490_11eb_bcb8_446d5747e963level0_row6\" class=\"row_heading level0 row6\" >6</th>\n",
       "                        <td id=\"T_2c45ac6e_8490_11eb_bcb8_446d5747e963row6_col0\" class=\"data row6 col0\" >18.75</td>\n",
       "                        <td id=\"T_2c45ac6e_8490_11eb_bcb8_446d5747e963row6_col1\" class=\"data row6 col1\" >9.00</td>\n",
       "                        <td id=\"T_2c45ac6e_8490_11eb_bcb8_446d5747e963row6_col2\" class=\"data row6 col2\" >21.09</td>\n",
       "                        <td id=\"T_2c45ac6e_8490_11eb_bcb8_446d5747e963row6_col3\" class=\"data row6 col3\" >12.48%</td>\n",
       "            </tr>\n",
       "            <tr>\n",
       "                        <th id=\"T_2c45ac6e_8490_11eb_bcb8_446d5747e963level0_row7\" class=\"row_heading level0 row7\" >7</th>\n",
       "                        <td id=\"T_2c45ac6e_8490_11eb_bcb8_446d5747e963row7_col0\" class=\"data row7 col0\" >19.83</td>\n",
       "                        <td id=\"T_2c45ac6e_8490_11eb_bcb8_446d5747e963row7_col1\" class=\"data row7 col1\" >8.00</td>\n",
       "                        <td id=\"T_2c45ac6e_8490_11eb_bcb8_446d5747e963row7_col2\" class=\"data row7 col2\" >19.42</td>\n",
       "                        <td id=\"T_2c45ac6e_8490_11eb_bcb8_446d5747e963row7_col3\" class=\"data row7 col3\" >-2.08%</td>\n",
       "            </tr>\n",
       "            <tr>\n",
       "                        <th id=\"T_2c45ac6e_8490_11eb_bcb8_446d5747e963level0_row8\" class=\"row_heading level0 row8\" >8</th>\n",
       "                        <td id=\"T_2c45ac6e_8490_11eb_bcb8_446d5747e963row8_col0\" class=\"data row8 col0\" >10.75</td>\n",
       "                        <td id=\"T_2c45ac6e_8490_11eb_bcb8_446d5747e963row8_col1\" class=\"data row8 col1\" >4.00</td>\n",
       "                        <td id=\"T_2c45ac6e_8490_11eb_bcb8_446d5747e963row8_col2\" class=\"data row8 col2\" >12.72</td>\n",
       "                        <td id=\"T_2c45ac6e_8490_11eb_bcb8_446d5747e963row8_col3\" class=\"data row8 col3\" >18.33%</td>\n",
       "            </tr>\n",
       "            <tr>\n",
       "                        <th id=\"T_2c45ac6e_8490_11eb_bcb8_446d5747e963level0_row9\" class=\"row_heading level0 row9\" >9</th>\n",
       "                        <td id=\"T_2c45ac6e_8490_11eb_bcb8_446d5747e963row9_col0\" class=\"data row9 col0\" >16.68</td>\n",
       "                        <td id=\"T_2c45ac6e_8490_11eb_bcb8_446d5747e963row9_col1\" class=\"data row9 col1\" >7.00</td>\n",
       "                        <td id=\"T_2c45ac6e_8490_11eb_bcb8_446d5747e963row9_col2\" class=\"data row9 col2\" >17.74</td>\n",
       "                        <td id=\"T_2c45ac6e_8490_11eb_bcb8_446d5747e963row9_col3\" class=\"data row9 col3\" >6.37%</td>\n",
       "            </tr>\n",
       "            <tr>\n",
       "                        <th id=\"T_2c45ac6e_8490_11eb_bcb8_446d5747e963level0_row10\" class=\"row_heading level0 row10\" >10</th>\n",
       "                        <td id=\"T_2c45ac6e_8490_11eb_bcb8_446d5747e963row10_col0\" class=\"data row10 col0\" >11.50</td>\n",
       "                        <td id=\"T_2c45ac6e_8490_11eb_bcb8_446d5747e963row10_col1\" class=\"data row10 col1\" >3.00</td>\n",
       "                        <td id=\"T_2c45ac6e_8490_11eb_bcb8_446d5747e963row10_col2\" class=\"data row10 col2\" >11.05</td>\n",
       "                        <td id=\"T_2c45ac6e_8490_11eb_bcb8_446d5747e963row10_col3\" class=\"data row10 col3\" >-3.95%</td>\n",
       "            </tr>\n",
       "            <tr>\n",
       "                        <th id=\"T_2c45ac6e_8490_11eb_bcb8_446d5747e963level0_row11\" class=\"row_heading level0 row11\" >11</th>\n",
       "                        <td id=\"T_2c45ac6e_8490_11eb_bcb8_446d5747e963row11_col0\" class=\"data row11 col0\" >12.03</td>\n",
       "                        <td id=\"T_2c45ac6e_8490_11eb_bcb8_446d5747e963row11_col1\" class=\"data row11 col1\" >3.00</td>\n",
       "                        <td id=\"T_2c45ac6e_8490_11eb_bcb8_446d5747e963row11_col2\" class=\"data row11 col2\" >11.05</td>\n",
       "                        <td id=\"T_2c45ac6e_8490_11eb_bcb8_446d5747e963row11_col3\" class=\"data row11 col3\" >-8.18%</td>\n",
       "            </tr>\n",
       "            <tr>\n",
       "                        <th id=\"T_2c45ac6e_8490_11eb_bcb8_446d5747e963level0_row12\" class=\"row_heading level0 row12\" >12</th>\n",
       "                        <td id=\"T_2c45ac6e_8490_11eb_bcb8_446d5747e963row12_col0\" class=\"data row12 col0\" >14.88</td>\n",
       "                        <td id=\"T_2c45ac6e_8490_11eb_bcb8_446d5747e963row12_col1\" class=\"data row12 col1\" >4.00</td>\n",
       "                        <td id=\"T_2c45ac6e_8490_11eb_bcb8_446d5747e963row12_col2\" class=\"data row12 col2\" >12.72</td>\n",
       "                        <td id=\"T_2c45ac6e_8490_11eb_bcb8_446d5747e963row12_col3\" class=\"data row12 col3\" >-14.51%</td>\n",
       "            </tr>\n",
       "            <tr>\n",
       "                        <th id=\"T_2c45ac6e_8490_11eb_bcb8_446d5747e963level0_row13\" class=\"row_heading level0 row13\" >13</th>\n",
       "                        <td id=\"T_2c45ac6e_8490_11eb_bcb8_446d5747e963row13_col0\" class=\"data row13 col0\" >13.75</td>\n",
       "                        <td id=\"T_2c45ac6e_8490_11eb_bcb8_446d5747e963row13_col1\" class=\"data row13 col1\" >6.00</td>\n",
       "                        <td id=\"T_2c45ac6e_8490_11eb_bcb8_446d5747e963row13_col2\" class=\"data row13 col2\" >16.07</td>\n",
       "                        <td id=\"T_2c45ac6e_8490_11eb_bcb8_446d5747e963row13_col3\" class=\"data row13 col3\" >16.86%</td>\n",
       "            </tr>\n",
       "            <tr>\n",
       "                        <th id=\"T_2c45ac6e_8490_11eb_bcb8_446d5747e963level0_row14\" class=\"row_heading level0 row14\" >14</th>\n",
       "                        <td id=\"T_2c45ac6e_8490_11eb_bcb8_446d5747e963row14_col0\" class=\"data row14 col0\" >18.11</td>\n",
       "                        <td id=\"T_2c45ac6e_8490_11eb_bcb8_446d5747e963row14_col1\" class=\"data row14 col1\" >7.00</td>\n",
       "                        <td id=\"T_2c45ac6e_8490_11eb_bcb8_446d5747e963row14_col2\" class=\"data row14 col2\" >17.74</td>\n",
       "                        <td id=\"T_2c45ac6e_8490_11eb_bcb8_446d5747e963row14_col3\" class=\"data row14 col3\" >-2.03%</td>\n",
       "            </tr>\n",
       "            <tr>\n",
       "                        <th id=\"T_2c45ac6e_8490_11eb_bcb8_446d5747e963level0_row15\" class=\"row_heading level0 row15\" >15</th>\n",
       "                        <td id=\"T_2c45ac6e_8490_11eb_bcb8_446d5747e963row15_col0\" class=\"data row15 col0\" >8.00</td>\n",
       "                        <td id=\"T_2c45ac6e_8490_11eb_bcb8_446d5747e963row15_col1\" class=\"data row15 col1\" >2.00</td>\n",
       "                        <td id=\"T_2c45ac6e_8490_11eb_bcb8_446d5747e963row15_col2\" class=\"data row15 col2\" >9.37</td>\n",
       "                        <td id=\"T_2c45ac6e_8490_11eb_bcb8_446d5747e963row15_col3\" class=\"data row15 col3\" >17.15%</td>\n",
       "            </tr>\n",
       "            <tr>\n",
       "                        <th id=\"T_2c45ac6e_8490_11eb_bcb8_446d5747e963level0_row16\" class=\"row_heading level0 row16\" >16</th>\n",
       "                        <td id=\"T_2c45ac6e_8490_11eb_bcb8_446d5747e963row16_col0\" class=\"data row16 col0\" >17.83</td>\n",
       "                        <td id=\"T_2c45ac6e_8490_11eb_bcb8_446d5747e963row16_col1\" class=\"data row16 col1\" >7.00</td>\n",
       "                        <td id=\"T_2c45ac6e_8490_11eb_bcb8_446d5747e963row16_col2\" class=\"data row16 col2\" >17.74</td>\n",
       "                        <td id=\"T_2c45ac6e_8490_11eb_bcb8_446d5747e963row16_col3\" class=\"data row16 col3\" >-0.49%</td>\n",
       "            </tr>\n",
       "    </tbody></table>"
      ],
      "text/plain": [
       "<pandas.io.formats.style.Styler at 0x9d7e868>"
      ]
     },
     "execution_count": 62,
     "metadata": {},
     "output_type": "execute_result"
    }
   ],
   "source": [
    "result.style.format({'DT': \"{:.2f}\",'ST': \"{:.2f}\",'Predict_DT': \"{:.2f}\",'Error': \"{:.2%}\"})"
   ]
  },
  {
   "cell_type": "code",
   "execution_count": 63,
   "metadata": {},
   "outputs": [
    {
     "data": {
      "text/plain": [
       "0.022517326706489704"
      ]
     },
     "execution_count": 63,
     "metadata": {},
     "output_type": "execute_result"
    }
   ],
   "source": [
    "result.Error.mean()"
   ]
  },
  {
   "cell_type": "code",
   "execution_count": 64,
   "metadata": {},
   "outputs": [],
   "source": [
    "# Since the mean of all the error values is close to 0, hence we can say regression equation for forecating is working well."
   ]
  },
  {
   "cell_type": "code",
   "execution_count": null,
   "metadata": {},
   "outputs": [],
   "source": []
  }
 ],
 "metadata": {
  "kernelspec": {
   "display_name": "Python 3",
   "language": "python",
   "name": "python3"
  },
  "language_info": {
   "codemirror_mode": {
    "name": "ipython",
    "version": 3
   },
   "file_extension": ".py",
   "mimetype": "text/x-python",
   "name": "python",
   "nbconvert_exporter": "python",
   "pygments_lexer": "ipython3",
   "version": "3.8.5"
  }
 },
 "nbformat": 4,
 "nbformat_minor": 4
}
